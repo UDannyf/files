{
 "cells": [
  {
   "cell_type": "code",
   "execution_count": 181,
   "id": "a5dd97fb",
   "metadata": {
    "scrolled": true
   },
   "outputs": [
    {
     "data": {
      "image/png": "[encoded data removed]",
      "text/plain": [
       "<Figure size 800x100 with 2 Axes>"
      ]
     },
     "metadata": {},
     "output_type": "display_data"
    }
   ],
   "source": [
    "import matplotlib as mpl\n",
    "from matplotlib.backends.backend_agg import FigureCanvasAgg\n",
    "from matplotlib.colors import LinearSegmentedColormap\n",
    "from matplotlib.figure import Figure\n",
    "import cv2\n",
    "import matplotlib.pyplot as plt\n",
    "\n",
    "img = cv2.imread('NDVI.tiff')\n",
    "bounds = [0, 31, 63, 95, 127, 159, 191, 223, 255]\n",
    "style_color = [[0,   0,   2],[0,   0,   255],[110,   71, 149], [255, 0, 255],\n",
    "               [255, 0, 0],[255, 141, 10],[233, 229, 0], [0, 255, 0],\n",
    "               [31, 138, 0], [31, 138, 0]]\n",
    "color_arr = []\n",
    "for color in style_color:\n",
    "    rgb = [float(value)/255 for value in color]\n",
    "    color_arr.append(rgb)\n",
    "\n",
    "norm = mpl.colors.Normalize(vmin=min(bounds), vmax=max(bounds))\n",
    "normed_vals = norm(bounds)\n",
    "cmap = LinearSegmentedColormap.from_list(\n",
    "    'color',list(zip(normed_vals, color_arr[:-1])),N=256)\n",
    "\n",
    "fig, axs = plt.subplots(2, figsize=(8, 1), sharex=True,gridspec_kw={'height_ratios': [0.5, 0.05]})\n",
    "cb = mpl.colorbar.ColorbarBase(axs[1],cmap=cmap,norm=norm,orientation='horizontal',)\n",
    "b, n, patches = axs[0].hist(img.ravel(), 256,[1,256])\n",
    "col = (n-n.min())/(n.max()-n.min())\n",
    "i=0\n",
    "atotal= []\n",
    "for c, p in zip(col, patches):    \n",
    "    atotal.append(p.get_height())    \n",
    "    plt.setp(p, 'facecolor', cmap(c))\n",
    "    \n",
    "axs[0].set_axis_off()\n",
    "fig.set_facecolor(\"#f7f7f7\")\n",
    "axs[0].axvline(0,color=\"gray\", linestyle=\":\", )\n",
    "axs[0].axvline(127,color=\"gray\", linestyle=\":\", )\n",
    "axs[0].axvline(159,color=\"gray\", linestyle=\":\", )\n",
    "axs[0].axvline(191,color=\"gray\", linestyle=\":\", )\n",
    "axs[0].axvline(255,color=\"gray\", linestyle=\":\", )\n",
    "\n",
    "plt.xticks([0, 31, 63, 95, 127, 159, 191, 223, 255], \n",
    "           [-1, -0.75, -0.5, -0.25, 0, 0.25, 0.50, 0.75, 1])\n",
    "\n",
    "text_dict = dict(boxstyle = \"round\", fc = \"#e5e5e5\", alpha=.1)\n",
    "\n",
    "axs[0].annotate(str(round(sum(atotal[0:127])*100/sum(atotal),2))+'%',bbox = text_dict, \n",
    "                  xy=(2, max(atotal)*0.85), fontsize=7)\n",
    "axs[0].annotate(str(round(sum(atotal[127:159])*100/sum(atotal),2))+'%',bbox = text_dict, \n",
    "                  xy=(129, max(atotal)*0.85), fontsize=7)\n",
    "axs[0].annotate(str(round(sum(atotal[159:191])*100/sum(atotal),2))+'%',bbox = text_dict, \n",
    "                  xy=(161, max(atotal)*0.85), fontsize=7)\n",
    "axs[0].annotate(str(round(sum(atotal[191:-1])*100/sum(atotal),2))+'%',bbox = text_dict, \n",
    "                  xy=(193, max(atotal)*0.85), fontsize=7)\n",
    "fig.savefig('colorbar/colorbar_NDVI.png',bbox_inches='tight',pad_inches=0)"
   ]
  },
  {
   "cell_type": "code",
   "execution_count": null,
   "id": "63a93c8b",
   "metadata": {},
   "outputs": [],
   "source": []
  },
  {
   "cell_type": "code",
   "execution_count": null,
   "id": "ad0dfda6",
   "metadata": {},
   "outputs": [],
   "source": []
  }
 ],
 "metadata": {
  "kernelspec": {
   "display_name": "Python 3 (ipykernel)",
   "language": "python",
   "name": "python3"
  },
  "language_info": {
   "codemirror_mode": {
    "name": "ipython",
    "version": 3
   },
   "file_extension": ".py",
   "mimetype": "text/x-python",
   "name": "python",
   "nbconvert_exporter": "python",
   "pygments_lexer": "ipython3",
   "version": "3.9.13"
  }
 },
 "nbformat": 4,
 "nbformat_minor": 5
}
