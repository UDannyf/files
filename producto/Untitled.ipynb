{
 "cells": [
  {
   "cell_type": "code",
   "execution_count": 4,
   "id": "63c6a35e",
   "metadata": {},
   "outputs": [
    {
     "name": "stdout",
     "output_type": "stream",
     "text": [
      "\u001b[31mERROR: Could not find a version that satisfies the requirement libgdal (from versions: none)\u001b[0m\u001b[31m\n",
      "\u001b[0m\u001b[31mERROR: No matching distribution found for libgdal\u001b[0m\u001b[31m\n",
      "\u001b[0mNote: you may need to restart the kernel to use updated packages.\n"
     ]
    }
   ],
   "source": [
    "pip install libgdal"
   ]
  },
  {
   "cell_type": "code",
   "execution_count": 3,
   "id": "06674128",
   "metadata": {},
   "outputs": [
    {
     "ename": "ModuleNotFoundError",
     "evalue": "No module named 'gdal'",
     "output_type": "error",
     "traceback": [
      "\u001b[0;31m---------------------------------------------------------------------------\u001b[0m",
      "\u001b[0;31mModuleNotFoundError\u001b[0m                       Traceback (most recent call last)",
      "\u001b[0;32m/tmp/ipykernel_35532/3384653499.py\u001b[0m in \u001b[0;36m<module>\u001b[0;34m\u001b[0m\n\u001b[0;32m----> 1\u001b[0;31m \u001b[0;32mimport\u001b[0m \u001b[0mgdal\u001b[0m\u001b[0;34m\u001b[0m\u001b[0;34m\u001b[0m\u001b[0m\n\u001b[0m\u001b[1;32m      2\u001b[0m \u001b[0;32mimport\u001b[0m \u001b[0mtifffile\u001b[0m\u001b[0;34m\u001b[0m\u001b[0;34m\u001b[0m\u001b[0m\n\u001b[1;32m      3\u001b[0m \u001b[0;32mfrom\u001b[0m \u001b[0mskimage\u001b[0m\u001b[0;34m.\u001b[0m\u001b[0mtransform\u001b[0m \u001b[0;32mimport\u001b[0m \u001b[0mresize\u001b[0m\u001b[0;34m\u001b[0m\u001b[0;34m\u001b[0m\u001b[0m\n\u001b[1;32m      4\u001b[0m \u001b[0;32mimport\u001b[0m \u001b[0mnumpy\u001b[0m \u001b[0;32mas\u001b[0m \u001b[0mnp\u001b[0m\u001b[0;34m\u001b[0m\u001b[0;34m\u001b[0m\u001b[0m\n\u001b[1;32m      5\u001b[0m \u001b[0;32mimport\u001b[0m \u001b[0mmatplotlib\u001b[0m\u001b[0;34m.\u001b[0m\u001b[0mpyplot\u001b[0m \u001b[0;32mas\u001b[0m \u001b[0mplt\u001b[0m\u001b[0;34m\u001b[0m\u001b[0;34m\u001b[0m\u001b[0m\n",
      "\u001b[0;31mModuleNotFoundError\u001b[0m: No module named 'gdal'"
     ]
    }
   ],
   "source": [
    "import gdal\n",
    "import tifffile\n",
    "from skimage.transform import resize\n",
    "import numpy as np\n",
    "import matplotlib.pyplot as plt\n",
    "from tensorflow.keras.models import load_model"
   ]
  },
  {
   "cell_type": "code",
   "execution_count": null,
   "id": "d9f04395",
   "metadata": {},
   "outputs": [],
   "source": [
    "clorofila_model = load_model('modelo_clorofila.h5')\n",
    "altura_model = load_model('modelo_altura.h5')\n",
    "\n",
    "ALTURA_MAX = 266.80\n",
    "ALTURA_MIN = 0.0\n",
    "\n",
    "CLOROFILA_MAX = 980.993\n",
    "CLOROFILA_MIN = 0.0\n"
   ]
  },
  {
   "cell_type": "code",
   "execution_count": null,
   "id": "fd040e48",
   "metadata": {},
   "outputs": [],
   "source": [
    "def estandarizar_bandas(img):\n",
    "    banda1, banda2, banda3, banda4 = np.moveaxis(img, 2, 0)\n",
    "    bandas = [banda1, banda2, banda3, banda4]\n",
    "    bandas_norm = []\n",
    "    for banda in bandas:\n",
    "        mean = banda.mean()\n",
    "        std = banda.std()\n",
    "        banda = (banda-mean)/std\n",
    "        bandas_norm.append(banda)\n",
    "    img_norm = np.array(bandas_norm)\n",
    "    img_norm = np.moveaxis(bandas_norm, 0, 2)\n",
    "    return img_norm"
   ]
  },
  {
   "cell_type": "code",
   "execution_count": null,
   "id": "0e7e3dda",
   "metadata": {},
   "outputs": [],
   "source": [
    "def recortar(img, h, w):\n",
    "    cropped_images = []\n",
    "    for r in range(h):\n",
    "        for c in range(w):\n",
    "            i1 = int(r*(img.shape[0]/h))\n",
    "            i2 = int((r+1)*(img.shape[0]/h))\n",
    "            \n",
    "            j1 = int(c*(img.shape[1]/w))\n",
    "            j2 = int((c+1)*(img.shape[1]/w))\n",
    "            \n",
    "            im = img[i1:i2, j1:j2]\n",
    "            cropped_images.append(im)\n",
    "    return cropped_images"
   ]
  },
  {
   "cell_type": "code",
   "execution_count": null,
   "id": "0c5462d6",
   "metadata": {},
   "outputs": [],
   "source": [
    "def write_geotiff(filename, arr, in_ds):\n",
    "    if arr.dtype == np.float32:\n",
    "        arr_type = gdal.GDT_Float32\n",
    "    else:\n",
    "        arr_type = gdal.GDT_Int32\n",
    "\n",
    "    driver = gdal.GetDriverByName(\"GTiff\")\n",
    "    out_ds = driver.Create(filename, arr.shape[1], arr.shape[0], 1, arr_type)\n",
    "    out_ds.SetProjection(in_ds.GetProjection())\n",
    "    out_ds.SetGeoTransform(in_ds.GetGeoTransform())\n",
    "    band = out_ds.GetRasterBand(1)\n",
    "    band.WriteArray(arr)\n",
    "    band.FlushCache()\n",
    "    band.ComputeStatistics(False)\n"
   ]
  },
  {
   "cell_type": "code",
   "execution_count": null,
   "id": "963f3a8a",
   "metadata": {},
   "outputs": [],
   "source": [
    "def predecir(input_tif_path):\n",
    "    tif = tifffile.imread(input_tif_path)\n",
    "    resized_tif = resize(tif, (2240, 2240))\n",
    "    norm_tif = estandarizar_bandas(resized_tif)\n",
    "    cropped_tif = recortar(norm_tif, 10, 10)\n",
    "    X = np.array(cropped_tif)\n",
    "    clorofila_pred = clorofila_model.predict(X)\n",
    "    altura_pred = altura_model.predict(X)\n",
    "    altura_results = []\n",
    "    clorofila_results = []\n",
    "    for i in range(100):\n",
    "        img_altura = altura_pred[i]\n",
    "        img_altura = np.argmax(img_altura, axis=-1)\n",
    "        altura_results.append(img_altura)\n",
    "        img_clorofila = clorofila_pred[i]\n",
    "        img_clorofila = np.argmax(img_clorofila, axis=-1)  \n",
    "        clorofila_results.append(img_clorofila)\n",
    "\n",
    "    return clorofila_results, altura_results"
   ]
  },
  {
   "cell_type": "code",
   "execution_count": null,
   "id": "c6e50b8f",
   "metadata": {},
   "outputs": [],
   "source": [
    "def guardar_tif(results, output_path, input_tif_path, v_max, v_min):\n",
    "\n",
    "    fragments = []\n",
    "    for i in range(10):\n",
    "        initial = i*10\n",
    "        final = (i+1)*10\n",
    "        fragment = np.concatenate(results[initial:final], axis=1)\n",
    "        fragments.append(fragment)\n",
    "\n",
    "    img = np.concatenate(fragments)\n",
    "    ds = gdal.Open(input_tif_path)\n",
    "    array = ds.ReadAsArray()\n",
    "    x, y = array.shape[1], array.shape[2]\n",
    "    resized_img = resize(img, (x, y))\n",
    "    scaled_img = resized_img*(v_max-v_min) + v_min\n",
    "    write_geotiff(output_path, scaled_img, ds)"
   ]
  },
  {
   "cell_type": "code",
   "execution_count": null,
   "id": "31c737c3",
   "metadata": {},
   "outputs": [],
   "source": [
    "clorofila_pred, altura_pred = predecir('espol.tif')\n",
    "guardar_tif(clorofila_pred, 'clorofila.tif', 'espol.tif', CLOROFILA_MAX, CLOROFILA_MIN)\n",
    "guardar_tif(altura_pred, 'altura.tif', 'espol.tif', ALTURA_MAX, ALTURA_MIN)"
   ]
  }
 ],
 "metadata": {
  "kernelspec": {
   "display_name": "Python 3 (ipykernel)",
   "language": "python",
   "name": "python3"
  },
  "language_info": {
   "codemirror_mode": {
    "name": "ipython",
    "version": 3
   },
   "file_extension": ".py",
   "mimetype": "text/x-python",
   "name": "python",
   "nbconvert_exporter": "python",
   "pygments_lexer": "ipython3",
   "version": "3.9.13"
  }
 },
 "nbformat": 4,
 "nbformat_minor": 5
}
